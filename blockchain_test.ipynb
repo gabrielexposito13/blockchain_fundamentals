{
 "cells": [
  {
   "cell_type": "markdown",
   "metadata": {},
   "source": [
    "#### Some Fundamentals"
   ]
  },
  {
   "cell_type": "code",
   "execution_count": null,
   "metadata": {},
   "outputs": [],
   "source": [
    "# Blockchain is made up of blocks\n",
    "# Blocks are made up of transactions\n",
    "# Blocks are connected through hashing* \n",
    "        # Hashing*: Unique fingerprint = transaction + previous blocks fingerprint"
   ]
  }
 ],
 "metadata": {
  "language_info": {
   "name": "python"
  }
 },
 "nbformat": 4,
 "nbformat_minor": 2
}
